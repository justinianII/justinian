{
 "cells": [
  {
   "cell_type": "code",
   "execution_count": 12,
   "metadata": {
    "collapsed": false
   },
   "outputs": [
    {
     "name": "stdout",
     "output_type": "stream",
     "text": [
      "{1: 'a', 2: 'b', 0: 100}\n",
      "1\n",
      "2\n",
      "0\n"
     ]
    }
   ],
   "source": [
    "d1 = dict(zip((1,2),('a','b')))     # zip : tuple 對應 tuple\n",
    "d1[0]=100     #新增新的索引值\n",
    "print(d1)\n",
    "1 in d1\n",
    "for i in d1 : \n",
    "    print(i)"
   ]
  },
  {
   "cell_type": "code",
   "execution_count": 16,
   "metadata": {
    "collapsed": false
   },
   "outputs": [
    {
     "name": "stdout",
     "output_type": "stream",
     "text": [
      "-1\n"
     ]
    }
   ],
   "source": [
    "# 字典查詢 & 新增沒有在字典的字 ( 跑的速度比較慢 ) \n",
    "\n",
    "key = ('P','M','H')\n",
    "value = ('Pikachu','micky mouse','Hello kitty')\n",
    "d = dict(zip(key,value))\n",
    "\n",
    "while True : \n",
    "    keyin = input()\n",
    "    if keyin == '-1' : \n",
    "        break\n",
    "    elif keyin in d : \n",
    "        print(d[keyin])\n",
    "    else : \n",
    "        new = input('no this data,please enter data :')\n",
    "        d[keyin] = new"
   ]
  },
  {
   "cell_type": "code",
   "execution_count": 19,
   "metadata": {
    "collapsed": false
   },
   "outputs": [
    {
     "name": "stdout",
     "output_type": "stream",
     "text": [
      "{'apple', 'tomato', 'egg plant', 'cabbage', 'orarge', 'pinapple'}\n",
      "{'tomato'}\n",
      "None\n",
      "{'apple', 'tomato', 'egg plant', 'cabbage', 'orarge', 'pinapple'}\n"
     ]
    }
   ],
   "source": [
    "# 集合 - 不具有順序性\n",
    "# () - tuple / [] - list / {} - dictionary / set() - set\n",
    "fruit = {'apple','pinapple','orarge','tomato'}\n",
    "vege = {'tomato','cabbage','egg plant'}\n",
    "print(fruit.union(vege))\n",
    "print(fruit.intersection(vege))\n",
    "print(fruit.update(vege))       # 有 update 就會將新的值回傳到原本的 set 裡面\n",
    "print(fruit)"
   ]
  },
  {
   "cell_type": "code",
   "execution_count": null,
   "metadata": {
    "collapsed": true
   },
   "outputs": [],
   "source": []
  }
 ],
 "metadata": {
  "kernelspec": {
   "display_name": "Python 3",
   "language": "python",
   "name": "python3"
  },
  "language_info": {
   "codemirror_mode": {
    "name": "ipython",
    "version": 3
   },
   "file_extension": ".py",
   "mimetype": "text/x-python",
   "name": "python",
   "nbconvert_exporter": "python",
   "pygments_lexer": "ipython3",
   "version": "3.6.0"
  }
 },
 "nbformat": 4,
 "nbformat_minor": 2
}
