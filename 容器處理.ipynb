{
 "cells": [
  {
   "cell_type": "code",
   "execution_count": null,
   "metadata": {
    "collapsed": true
   },
   "outputs": [],
   "source": [
    "# tuple 不能再做變動\n",
    "# List 可以做變動，但是處理的時間比較長"
   ]
  },
  {
   "cell_type": "code",
   "execution_count": 5,
   "metadata": {
    "collapsed": false
   },
   "outputs": [
    {
     "name": "stdout",
     "output_type": "stream",
     "text": [
      "[1, 2, 3]\n",
      "[1, 2, 3, 'apple']\n",
      "apple\n",
      "[1, 2, 3]\n"
     ]
    }
   ],
   "source": [
    "l1 = [1,2,3]\n",
    "l2 = [1,2,3]\n",
    "l3 = l1.copy()\n",
    "print (l3)\n",
    "l1.append('apple')     # list.append() : 可以增加新的在後面\n",
    "print (l1)\n",
    "print (l1.pop())       # list.pop() : 可以將最後一筆取出來\n",
    "print (l1)"
   ]
  },
  {
   "cell_type": "code",
   "execution_count": 8,
   "metadata": {
    "collapsed": false
   },
   "outputs": [
    {
     "name": "stdout",
     "output_type": "stream",
     "text": [
      "['Book1', 'Book2', 'Book3', 'Book4', 'Book5', 'Book6']\n"
     ]
    }
   ],
   "source": [
    "shelf=['Book1','Book2','Book6','Book4','Book5']\n",
    "shelf.append(shelf[2])\n",
    "shelf[2]='Book3'\n",
    "print(shelf)"
   ]
  },
  {
   "cell_type": "code",
   "execution_count": 9,
   "metadata": {
    "collapsed": false
   },
   "outputs": [
    {
     "name": "stdout",
     "output_type": "stream",
     "text": [
      "['Book1', 'Book2', 'Book3', 'Book4', 'Book5', 'Book6']\n"
     ]
    }
   ],
   "source": [
    "shelf=['Book1','Book2','Book6','Book4','Book5']\n",
    "shelf.append('Book6')\n",
    "shelf[2]='Book3'\n",
    "print(shelf)"
   ]
  },
  {
   "cell_type": "code",
   "execution_count": 19,
   "metadata": {
    "collapsed": false
   },
   "outputs": [
    {
     "name": "stdout",
     "output_type": "stream",
     "text": [
      "5\n",
      "data 5\n",
      "data 4\n",
      "data 3\n",
      "data 2\n",
      "data 1\n",
      "\n",
      "data 1\n",
      "data 2\n",
      "data 3\n",
      "data 4\n",
      "data 5\n"
     ]
    }
   ],
   "source": [
    "n = eval(input())\n",
    "lst=[]\n",
    "for i in range (n,0,-1):\n",
    "    lst.append(i)\n",
    "    print('data',i)\n",
    "print()\n",
    "for i in range (len(lst)) :\n",
    "    print('data',lst.pop())"
   ]
  },
  {
   "cell_type": "code",
   "execution_count": 23,
   "metadata": {
    "collapsed": false,
    "scrolled": true
   },
   "outputs": [
    {
     "name": "stdout",
     "output_type": "stream",
     "text": [
      "[1, 2, 3, 4, 5, 6, 'a', 'p', 'p', 'l', 'e']\n"
     ]
    }
   ],
   "source": [
    "lst1 =[1,2,3]\n",
    "lst2 = [4,5,6]              # list.extend : 只會拆一層\n",
    "lst1.extend(lst2)\n",
    "lst1.extend('apple')        # 字串他會全部拆開來加進去\n",
    "print(lst1)"
   ]
  },
  {
   "cell_type": "code",
   "execution_count": 25,
   "metadata": {
    "collapsed": false,
    "scrolled": true
   },
   "outputs": [
    {
     "name": "stdout",
     "output_type": "stream",
     "text": [
      "[1, 2, 3, 'apple', 4, 5]\n"
     ]
    }
   ],
   "source": [
    "list1 =[1,2,3,4,5]\n",
    "list1.insert(3,'apple')\n",
    "print(list1)"
   ]
  },
  {
   "cell_type": "code",
   "execution_count": null,
   "metadata": {
    "collapsed": true
   },
   "outputs": [],
   "source": []
  }
 ],
 "metadata": {
  "kernelspec": {
   "display_name": "Python 3",
   "language": "python",
   "name": "python3"
  },
  "language_info": {
   "codemirror_mode": {
    "name": "ipython",
    "version": 3
   },
   "file_extension": ".py",
   "mimetype": "text/x-python",
   "name": "python",
   "nbconvert_exporter": "python",
   "pygments_lexer": "ipython3",
   "version": "3.6.0"
  }
 },
 "nbformat": 4,
 "nbformat_minor": 2
}
