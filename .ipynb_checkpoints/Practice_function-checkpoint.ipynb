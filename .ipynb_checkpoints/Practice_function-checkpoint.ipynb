{
 "cells": [
  {
   "cell_type": "code",
   "execution_count": 3,
   "metadata": {
    "collapsed": false
   },
   "outputs": [
    {
     "name": "stdout",
     "output_type": "stream",
     "text": [
      "5\n",
      "120\n",
      "15\n"
     ]
    }
   ],
   "source": [
    "#函式回傳多個數值 \n",
    "\n",
    "def func(n) :\n",
    "    total1 = 0\n",
    "    total2 = 1\n",
    "    for i in range(1,n+1):\n",
    "        total1 += i\n",
    "        total2 *= i \n",
    "    return total1,total2\n",
    "\n",
    "n = eval(input())\n",
    "ans = func(n)\n",
    "print(ans[1])\n",
    "print(ans[0])\n"
   ]
  },
  {
   "cell_type": "code",
   "execution_count": 5,
   "metadata": {
    "collapsed": false
   },
   "outputs": [
    {
     "name": "stdout",
     "output_type": "stream",
     "text": [
      "5\n",
      "15\n"
     ]
    }
   ],
   "source": [
    "# 1加到n的函式\n",
    "\n",
    "def func(n):\n",
    "    total = 0\n",
    "    for i in range(1,n+1):\n",
    "        total += i\n",
    "    return total \n",
    "\n",
    "n = eval(input())\n",
    "print(func(n))\n",
    "    "
   ]
  },
  {
   "cell_type": "code",
   "execution_count": 12,
   "metadata": {
    "collapsed": false
   },
   "outputs": [
    {
     "name": "stdout",
     "output_type": "stream",
     "text": [
      "10\n",
      "2\n",
      "90\n"
     ]
    }
   ],
   "source": [
    "#排列\n",
    "\n",
    "def func(n):\n",
    "    total = 1\n",
    "    for i in range(1,n+1):\n",
    "        total *= i\n",
    "    return total\n",
    "\n",
    "def P(n,m) : \n",
    "    return func(n)//func(n-m)\n",
    "\n",
    "n = eval(input())\n",
    "m = eval(input())\n",
    "\n",
    "print(P(n,m))\n",
    "    \n"
   ]
  },
  {
   "cell_type": "code",
   "execution_count": 13,
   "metadata": {
    "collapsed": false
   },
   "outputs": [
    {
     "name": "stdout",
     "output_type": "stream",
     "text": [
      "10\n",
      "2\n",
      "45.0\n"
     ]
    }
   ],
   "source": [
    "#組合\n",
    "\n",
    "def func(n):\n",
    "    total = 1\n",
    "    for i in range(1,n+1):\n",
    "        total *= i\n",
    "    return total\n",
    "\n",
    "def P(n,m) : \n",
    "    return func(n)//func(n-m)\n",
    "\n",
    "def C(n,m):\n",
    "    return P(n,m)//func(m)\n",
    "\n",
    "n = eval(input())\n",
    "m = eval(input())\n",
    "\n",
    "print(C(n,m))"
   ]
  },
  {
   "cell_type": "code",
   "execution_count": 15,
   "metadata": {
    "collapsed": false
   },
   "outputs": [
    {
     "name": "stdout",
     "output_type": "stream",
     "text": [
      "11\n",
      "55\n",
      "77\n",
      "88\n",
      "99\n",
      "66\n",
      "33\n",
      "-1\n",
      "input = [11, 55, 77, 88, 99, 66, 33]\n",
      "sorted = [11, 33, 55, 66, 77, 88, 99]\n",
      "max 3rd = 77\n",
      "list = [11, 55, 77, 88, 99, 66, 33]\n"
     ]
    }
   ],
   "source": [
    "# 函式中傳遞容器\n",
    "\n",
    "def sortlist(slist) : \n",
    "    slist.sort()\n",
    "    return slist\n",
    "\n",
    "lst1 = []\n",
    "while True : \n",
    "    n = eval(input())\n",
    "    if n == -1 : \n",
    "        break\n",
    "    else : \n",
    "        lst1.append(n)\n",
    "\n",
    "\n",
    "\n",
    "print('input','=',lst1)\n",
    "print('sorted','=',sortlist(lst1.copy()))\n",
    "lst2 = sortlist(lst1.copy())\n",
    "print('max 3rd','=',lst2[-3])\n",
    "print('list','=',lst1)\n",
    "\n",
    "    \n",
    "    \n"
   ]
  }
 ],
 "metadata": {
  "kernelspec": {
   "display_name": "Python 3",
   "language": "python",
   "name": "python3"
  },
  "language_info": {
   "codemirror_mode": {
    "name": "ipython",
    "version": 3
   },
   "file_extension": ".py",
   "mimetype": "text/x-python",
   "name": "python",
   "nbconvert_exporter": "python",
   "pygments_lexer": "ipython3",
   "version": "3.6.0"
  }
 },
 "nbformat": 4,
 "nbformat_minor": 2
}
