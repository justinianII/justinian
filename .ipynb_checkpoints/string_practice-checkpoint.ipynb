{
 "cells": [
  {
   "cell_type": "code",
   "execution_count": 6,
   "metadata": {
    "collapsed": false,
    "scrolled": true
   },
   "outputs": [
    {
     "name": "stdout",
     "output_type": "stream",
     "text": [
      "df\n",
      "sdf\n",
      "sdf\n",
      "df\n",
      "sdf\n",
      "sdf\n"
     ]
    }
   ],
   "source": [
    "n = input()\n",
    "m = input()\n",
    "o = input()\n",
    "\n",
    "print('%s\\n%s\\n%s'%(n,m,o))"
   ]
  },
  {
   "cell_type": "code",
   "execution_count": 12,
   "metadata": {
    "collapsed": false
   },
   "outputs": [
    {
     "name": "stdout",
     "output_type": "stream",
     "text": [
      "5\n",
      "6\n",
      "1*1= 1 1*2= 2 1*3= 3 1*4= 4 1*5= 5 1*6= 6 \n",
      "2*1= 2 2*2= 4 2*3= 6 2*4= 8 2*5=10 2*6=12 \n",
      "3*1= 3 3*2= 6 3*3= 9 3*4=12 3*5=15 3*6=18 \n",
      "4*1= 4 4*2= 8 4*3=12 4*4=16 4*5=20 4*6=24 \n",
      "5*1= 5 5*2=10 5*3=15 5*4=20 5*5=25 5*6=30 \n"
     ]
    }
   ],
   "source": [
    "n = eval(input())\n",
    "m = eval(input())\n",
    "\n",
    "for i in range(1,n+1) :\n",
    "    for j in range(1,m+1):\n",
    "        print('%d*%d=%2d'%(i,j,i*j),end=' ')\n",
    "    print()"
   ]
  },
  {
   "cell_type": "code",
   "execution_count": 17,
   "metadata": {
    "collapsed": false
   },
   "outputs": [
    {
     "name": "stdout",
     "output_type": "stream",
     "text": [
      "print(\"%(TW)s的%(NTU)s有個%(CSIE)s, %(Train)s最棒了, 112是%(112)s\" %short)\n",
      "台灣的台灣大學有個資工系, 訓練班最棒了, 112是台大ip\n"
     ]
    }
   ],
   "source": [
    "short = {'NTU':'台灣大學','TW':'台灣','112':'台大ip','CSIE':'資工系','Train':'訓練班'}\n",
    "eval(input())"
   ]
  },
  {
   "cell_type": "code",
   "execution_count": 1,
   "metadata": {
    "collapsed": false
   },
   "outputs": [
    {
     "name": "stdout",
     "output_type": "stream",
     "text": [
      "24\n",
      "n=24\n"
     ]
    }
   ],
   "source": [
    "n = input()\n",
    "\n",
    "if n.isdigit():\n",
    "    print('n=%s'%n)\n",
    "else : \n",
    "    print('is not a number')"
   ]
  },
  {
   "cell_type": "code",
   "execution_count": 2,
   "metadata": {
    "collapsed": false
   },
   "outputs": [
    {
     "name": "stdout",
     "output_type": "stream",
     "text": [
      "A friend in need is a friend indeed.\n",
      "friend\n",
      "2\n",
      "22\n"
     ]
    }
   ],
   "source": [
    "s = input()\n",
    "f = input()\n",
    "ct = -1         # ct 值要以 -1 的形式開始\n",
    "while True : \n",
    "    ct =s.find(f,ct+1)\n",
    "    if ct != -1 :\n",
    "        print(ct)\n",
    "    else : \n",
    "        break"
   ]
  },
  {
   "cell_type": "code",
   "execution_count": 4,
   "metadata": {
    "collapsed": false
   },
   "outputs": [
    {
     "name": "stdout",
     "output_type": "stream",
     "text": [
      "jdfsdjf \n",
      "JDFSDJF \n"
     ]
    }
   ],
   "source": [
    "n = input()\n",
    "print(n.upper())"
   ]
  },
  {
   "cell_type": "code",
   "execution_count": 9,
   "metadata": {
    "collapsed": false
   },
   "outputs": [
    {
     "name": "stdout",
     "output_type": "stream",
     "text": [
      "abc\n",
      "abc\n",
      "1=2\n",
      "abcabc\n",
      "6\n"
     ]
    }
   ],
   "source": [
    "n = input()\n",
    "m = input()\n",
    "\n",
    "if n > m : \n",
    "    print('1>2')\n",
    "elif n == m : \n",
    "    print('1==2')\n",
    "else :\n",
    "    print('1<2')\n",
    "o = n+m\n",
    "print(n+m)\n",
    "print(len(o))"
   ]
  },
  {
   "cell_type": "code",
   "execution_count": null,
   "metadata": {
    "collapsed": true
   },
   "outputs": [],
   "source": []
  }
 ],
 "metadata": {
  "kernelspec": {
   "display_name": "Python 3",
   "language": "python",
   "name": "python3"
  },
  "language_info": {
   "codemirror_mode": {
    "name": "ipython",
    "version": 3
   },
   "file_extension": ".py",
   "mimetype": "text/x-python",
   "name": "python",
   "nbconvert_exporter": "python",
   "pygments_lexer": "ipython3",
   "version": "3.6.0"
  }
 },
 "nbformat": 4,
 "nbformat_minor": 2
}
