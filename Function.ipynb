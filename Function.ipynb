{
 "cells": [
  {
   "cell_type": "code",
   "execution_count": 3,
   "metadata": {
    "collapsed": false
   },
   "outputs": [
    {
     "name": "stdout",
     "output_type": "stream",
     "text": [
      "hi 1\n",
      "hi 2\n",
      "hi 3\n",
      "hi 1\n",
      "hi 2\n",
      "hi 3\n",
      "hi 4\n",
      "hi 5\n",
      "None\n"
     ]
    }
   ],
   "source": [
    "# 函數裡面的變數是獨立的 在外面不能使用\n",
    "# Return : 回傳值\n",
    "\n",
    "def hi(n):               # 賦予函數一個參數，該參數為變數\n",
    "    for i in range(n) :\n",
    "        print('hi',i+1)\n",
    "\n",
    "hi(3)            # 代表 n = 3\n",
    "print(hi(5))     # 函數不具有回傳值"
   ]
  },
  {
   "cell_type": "code",
   "execution_count": 4,
   "metadata": {
    "collapsed": false,
    "scrolled": true
   },
   "outputs": [
    {
     "name": "stdout",
     "output_type": "stream",
     "text": [
      "12\n",
      "25\n",
      "49\n"
     ]
    }
   ],
   "source": [
    "# 傳入參數 : 參數本身只要是可以運算的東西就可以 - 數值、物件\n",
    "# 函數結束之後，裡面所有的變數都會還給作業系統，所以最後剩下 num1 num2 result 三個變數\n",
    "# 要先定義函數，再進行呼叫\n",
    "def F(x,y) :\n",
    "    ans = 2*x+y\n",
    "    return ans       # return 有兩個意義，一個是回傳資料，一個是結束函式 ( 可以有很多return)\n",
    "                     # reture 會回傳到呼叫他的地方 - result\n",
    "num1 = eval(input())\n",
    "num2 = eval(input())\n",
    "result = F(num1,num2) # 利用等於的過程，num1 複製到 x \n",
    "print(result)"
   ]
  },
  {
   "cell_type": "code",
   "execution_count": 7,
   "metadata": {
    "collapsed": false,
    "scrolled": true
   },
   "outputs": [
    {
     "name": "stdout",
     "output_type": "stream",
     "text": [
      "result = 10\n",
      "10\n"
     ]
    }
   ],
   "source": [
    "#沒有回傳值 :\n",
    "def F(n,m) :\n",
    "    print('result =',n*m)\n",
    "\n",
    "F(2,5)\n",
    "\n",
    "#有回傳值 :\n",
    "def f(n,m) :\n",
    "    return n*m\n",
    "print(f(2,5))         # 有回傳值的話，需要用print 的方式才會印出答案\n",
    "                      # 可以將許多的函式結合在一起"
   ]
  },
  {
   "cell_type": "code",
   "execution_count": 10,
   "metadata": {
    "collapsed": false
   },
   "outputs": [
    {
     "name": "stdout",
     "output_type": "stream",
     "text": [
      "5\n",
      "15\n"
     ]
    }
   ],
   "source": [
    "# 1+......+n\n",
    "def sum1(n) : \n",
    "    total = 0\n",
    "    for i in range(1,n+1) : \n",
    "        total += i\n",
    "    return total\n",
    "\n",
    "x = eval(input())       # eval : 將字串的內容進行運算 ( 執行文字裡面的程式碼 ) \n",
    "print(sum1(x))"
   ]
  },
  {
   "cell_type": "code",
   "execution_count": 12,
   "metadata": {
    "collapsed": false
   },
   "outputs": [
    {
     "name": "stdout",
     "output_type": "stream",
     "text": [
      "5\n",
      "120\n"
     ]
    }
   ],
   "source": [
    "# 1*........*n\n",
    "def mul(n) : \n",
    "    total = 1\n",
    "    for i in range(1,n+1):\n",
    "        total *= i\n",
    "    return total\n",
    "\n",
    "x = eval(input())\n",
    "print(mul(x))\n",
    "        "
   ]
  },
  {
   "cell_type": "code",
   "execution_count": 17,
   "metadata": {
    "collapsed": false
   },
   "outputs": [
    {
     "name": "stdout",
     "output_type": "stream",
     "text": [
      "The user id :  1\n",
      "The username :  justin\n",
      "The user age :  20\n",
      "The user id :  2\n",
      "The username :  Winnie\n",
      "The user age :  sir\n",
      "The user id :  Fuck\n",
      "The username :  you\n",
      "The user age :  sir\n"
     ]
    }
   ],
   "source": [
    "# 預設參數 : 若是沒有給值的話，他會自己帶進去的參數\n",
    "def printdata(uid='Fuck',name='you',age='sir') : #預設參數\n",
    "    print('The user id : ',uid)\n",
    "    print('The username : ',name)\n",
    "    print('The user age : ',age)\n",
    "\n",
    "printdata(1,'justin',20)\n",
    "printdata(2,'Winnie')\n",
    "printdata()\n",
    "        "
   ]
  },
  {
   "cell_type": "code",
   "execution_count": 22,
   "metadata": {
    "collapsed": false
   },
   "outputs": [
    {
     "name": "stdout",
     "output_type": "stream",
     "text": [
      "5\n",
      "15\n",
      "120\n"
     ]
    }
   ],
   "source": [
    "def f(n):\n",
    "    t1 = 0              # 函數裡面的值，只能用在函式裡面 - \"區域變數\"\n",
    "    t2 = 1\n",
    "    for i in range(1,n+1) : \n",
    "        t1 += i\n",
    "        t2 *= i\n",
    "    return t1,t2\n",
    "\n",
    "x = int(input())\n",
    "ans = f(x)              #將回傳值存下來，不要重複執行函數，不然恨浪費計算空間\n",
    "print(ans[0])\n",
    "print(ans[1])"
   ]
  },
  {
   "cell_type": "code",
   "execution_count": 25,
   "metadata": {
    "collapsed": false
   },
   "outputs": [
    {
     "name": "stdout",
     "output_type": "stream",
     "text": [
      "5\n",
      "2\n",
      "20.0\n"
     ]
    }
   ],
   "source": [
    "#排列 \n",
    "def f(n):\n",
    "    total = 1\n",
    "    for i in range(1,n+1):\n",
    "        total *= i\n",
    "    return total\n",
    "def P(n,m) :\n",
    "    return f(n)/f(n-m)\n",
    "\n",
    "a = eval(input())\n",
    "b = eval(input())\n",
    "print(P(a,b))\n",
    "    "
   ]
  },
  {
   "cell_type": "code",
   "execution_count": 27,
   "metadata": {
    "collapsed": false
   },
   "outputs": [
    {
     "name": "stdout",
     "output_type": "stream",
     "text": [
      "10\n",
      "2\n",
      "45.0\n"
     ]
    }
   ],
   "source": [
    "#組合\n",
    "def f(n):\n",
    "    total = 1\n",
    "    for i in range(1,n+1):\n",
    "        total *= i\n",
    "    return total\n",
    "def P(n,m) :\n",
    "    return f(n)/f(n-m)\n",
    "\n",
    "def C(n,m):\n",
    "    return P(n,m)/f(m)\n",
    "a = eval(input())\n",
    "b = eval(input())\n",
    "print(C(a,b))"
   ]
  },
  {
   "cell_type": "code",
   "execution_count": 28,
   "metadata": {
    "collapsed": false
   },
   "outputs": [
    {
     "name": "stdout",
     "output_type": "stream",
     "text": [
      "Hello,Tom\n",
      "Hello,Peter\n",
      "Hello,Bob\n",
      "Hello,Rain\n",
      "Hello john, you are 25 years old\n",
      "Hello tom, you are 20 years old\n"
     ]
    }
   ],
   "source": [
    "# 不定個數參數\n",
    "def hello (*names):        # * : 輸進去的東西會變成 tuple\n",
    "    for n in names : \n",
    "        print('Hello,%s'%n)\n",
    "hello('Tom','Peter','Bob','Rain')\n",
    "\n",
    "def hi(**names):           # 以字典的形式輸進去\n",
    "    for n in names:\n",
    "        print('Hello',n,end=', ')\n",
    "        print('you are',names[n],'years old')\n",
    "hi(john=25, tom = 20 )    # 需要以宣告的形式來輸入 "
   ]
  },
  {
   "cell_type": "code",
   "execution_count": null,
   "metadata": {
    "collapsed": true
   },
   "outputs": [],
   "source": [
    "# 傳遞參數 \n",
    "# 傳遞變數 : 在函數裡面做任何事，都不會改變他\n",
    "# 傳遞容器 : 在函數裡面做的事情，就會去改變它，因為是同一個容器做改變\n",
    "# 如果要不改變他的話，就要用 lst2 = lst1.copy()\n",
    "# lst[0] : 代表的是一個變數"
   ]
  },
  {
   "cell_type": "code",
   "execution_count": 32,
   "metadata": {
    "collapsed": false
   },
   "outputs": [
    {
     "name": "stdout",
     "output_type": "stream",
     "text": [
      "5\n",
      "2\n",
      "1\n",
      "54\n",
      "21\n",
      "100\n",
      "-1\n",
      "100\n",
      "[5, 2, 1, 54, 21, 100]\n"
     ]
    }
   ],
   "source": [
    "#輸入List，找第三大的數，列出\n",
    "lst = []\n",
    "def third(slst) :\n",
    "    slst.sort()\n",
    "    return slst[-3] \n",
    "while True : \n",
    "    n = eval(input())\n",
    "    if n != -1 : \n",
    "        lst.append(n)\n",
    "    else : \n",
    "        break\n",
    "\n",
    "print(third(lst.copy()))     # 為了不改變原本的容器 !!\n",
    "print(lst)"
   ]
  },
  {
   "cell_type": "code",
   "execution_count": 36,
   "metadata": {
    "collapsed": false
   },
   "outputs": [
    {
     "name": "stdout",
     "output_type": "stream",
     "text": [
      "10\n",
      "function =  10\n",
      "function1.5 =  100\n",
      "function2 =  30\n"
     ]
    }
   ],
   "source": [
    "# 全域變數 & 區域變數\n",
    "# 在函數裡面，不能更改全域變數的數值\n",
    "# 若是在前面打 global : 區域變數就會變成全域變數\n",
    "\n",
    "def func1():\n",
    "    global x                  # 若是在裡面宣告 global，代表該變數就會變成全域變數\n",
    "    print('function = ',x)    # 若是在裡面沒有宣告變數的時候，會提取全域變數的數值\n",
    "    x = 100\n",
    "    print('function1.5 = ',x)\n",
    "\n",
    "def func2():\n",
    "    x = 30\n",
    "    print('function2 = ',x)   # 將裡面的 X 作為區域變數\n",
    "\n",
    "    \n",
    "\n",
    "x = 10 \n",
    "print(x)\n",
    "func1()\n",
    "func2()"
   ]
  }
 ],
 "metadata": {
  "kernelspec": {
   "display_name": "Python 3",
   "language": "python",
   "name": "python3"
  },
  "language_info": {
   "codemirror_mode": {
    "name": "ipython",
    "version": 3
   },
   "file_extension": ".py",
   "mimetype": "text/x-python",
   "name": "python",
   "nbconvert_exporter": "python",
   "pygments_lexer": "ipython3",
   "version": "3.6.0"
  }
 },
 "nbformat": 4,
 "nbformat_minor": 2
}
