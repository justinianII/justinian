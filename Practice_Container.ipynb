{
 "cells": [
  {
   "cell_type": "code",
   "execution_count": 1,
   "metadata": {
    "collapsed": false
   },
   "outputs": [
    {
     "name": "stdout",
     "output_type": "stream",
     "text": [
      "['Book1', 'Book2', 'Book3', 'Book4', 'Book5', 'Book6']\n"
     ]
    }
   ],
   "source": [
    "# List 手動排序\n",
    "shelf = ['Book1','Book2','Book6','Book4','Book5']\n",
    "shelf.append(shelf[2])\n",
    "shelf[2] = 'Book3'\n",
    "print(shelf)"
   ]
  },
  {
   "cell_type": "code",
   "execution_count": 13,
   "metadata": {
    "collapsed": false
   },
   "outputs": [
    {
     "name": "stdout",
     "output_type": "stream",
     "text": [
      "5\n",
      "data 5\n",
      "data 4\n",
      "data 3\n",
      "data 2\n",
      "data 1\n",
      "\n",
      "data 1\n",
      "data 2\n",
      "data 3\n",
      "data 4\n",
      "data 5\n"
     ]
    }
   ],
   "source": [
    "# List-append pop練習 \n",
    "\n",
    "n = eval(input())\n",
    "lst=[]\n",
    "\n",
    "for i in range(n,0,-1) : \n",
    "    print('data',i)\n",
    "    lst.append(i)\n",
    "print()\n",
    "for i in range(len(lst)) : \n",
    "    print('data',lst.pop())"
   ]
  },
  {
   "cell_type": "code",
   "execution_count": 15,
   "metadata": {
    "collapsed": false
   },
   "outputs": [
    {
     "name": "stdout",
     "output_type": "stream",
     "text": [
      "P\n",
      "Pikachu\n"
     ]
    }
   ],
   "source": [
    "#dict字典練習I\n",
    "key=('P','M','H')\n",
    "value = ('Pikachu','Mickey Mouse','Hello kitty')\n",
    "\n",
    "dic = dict(zip(key,value))\n",
    "k = input()\n",
    "print(dic[k])"
   ]
  },
  {
   "cell_type": "code",
   "execution_count": 25,
   "metadata": {
    "collapsed": false
   },
   "outputs": [
    {
     "name": "stdout",
     "output_type": "stream",
     "text": [
      "1\n",
      "2\n",
      "5\n",
      "6\n",
      "2\n",
      "1\n",
      "3\n",
      "-1\n",
      "[1, 1, 2, 2, 3, 5, 6]\n",
      "[1, 1, 2, 10, 2, 3, 5, 6]\n",
      "1\n",
      "[10, 6, 5, 3, 2, 2, 1, 1]\n"
     ]
    }
   ],
   "source": [
    "#List 練習\n",
    "lst = []\n",
    "\n",
    "while True : \n",
    "    n = eval(input())\n",
    "    if n != -1 : \n",
    "        lst.append(n)\n",
    "    else : \n",
    "        break\n",
    "lst.sort()\n",
    "print(lst)\n",
    "lst.insert(3,10)\n",
    "print(lst)\n",
    "print(lst.count(10))\n",
    "lst.sort()\n",
    "lst.reverse()\n",
    "print(lst)"
   ]
  },
  {
   "cell_type": "code",
   "execution_count": 38,
   "metadata": {
    "collapsed": false
   },
   "outputs": [
    {
     "name": "stdout",
     "output_type": "stream",
     "text": [
      "A\n",
      "A does not exist. Enter a new one:\n",
      "dfsd\n",
      "-1\n"
     ]
    }
   ],
   "source": [
    "#dict字典練習II\n",
    "key=('P','M','H')\n",
    "value = ('Pikachu','Mickey Mouse','Hello kitty')\n",
    "\n",
    "dic = dict(zip(key,value))\n",
    "while True : \n",
    "    k = input()\n",
    "    if k in dic : \n",
    "        print(dic[k])\n",
    "    \n",
    "    elif k == '-1' : \n",
    "        break\n",
    "        \n",
    "    else : \n",
    "        new = input('%s does not exist. Enter a new one:\\n'%(k))\n",
    "        dic[k]=new\n",
    "    "
   ]
  },
  {
   "cell_type": "code",
   "execution_count": 43,
   "metadata": {
    "collapsed": false
   },
   "outputs": [
    {
     "name": "stdout",
     "output_type": "stream",
     "text": [
      "['水梨', '芭樂', '蓮霧', '香蕉']\n"
     ]
    }
   ],
   "source": [
    "#Set 沒有重複\n",
    "itemsA = {\"蘋果\", \"香蕉\", \"鳳梨\", \"芭樂\"}\n",
    "itemsB = {\"鳳梨\", \"蘋果\", \"水梨\", \"蓮霧\"}\n",
    "\n",
    "union = itemsA.union(itemsB)\n",
    "intersection = itemsA.intersection(itemsB)\n",
    "\n",
    "NR = union - intersection\n",
    "lst = list(NR)\n",
    "lst.sort()\n",
    "print(lst)"
   ]
  },
  {
   "cell_type": "code",
   "execution_count": 49,
   "metadata": {
    "collapsed": false
   },
   "outputs": [
    {
     "name": "stdout",
     "output_type": "stream",
     "text": [
      "A Magic World.\n"
     ]
    }
   ],
   "source": [
    "#字典密碼\n",
    "passbook = {'1':\" Wor\", 2.2:\"gic\", \"Three\":\"rd\", 4:\" Ma\", \"Six\":\"ld.\", 5:\"A\"}\n",
    "print(passbook[5],passbook[4],passbook[2.2],passbook['1'],passbook['Six'],sep='')"
   ]
  },
  {
   "cell_type": "code",
   "execution_count": 54,
   "metadata": {
    "collapsed": false
   },
   "outputs": [
    {
     "name": "stdout",
     "output_type": "stream",
     "text": [
      "['光彦', '美環']\n",
      "['丸尾', '野口']\n",
      "['柯南', '步美', '灰原']\n"
     ]
    }
   ],
   "source": [
    "MP ={'柯南','灰原','步美','美環','光彦'}\n",
    "EP ={'柯南','灰原','丸尾','野口','步美'}\n",
    "\n",
    "IS = MP.intersection(EP)\n",
    "MPEF = MP-IS\n",
    "lst1 = list(MPEF)\n",
    "lst1.sort()\n",
    "print(lst1)\n",
    "MFEP = EP.difference(IS)\n",
    "lst2 = list(MFEP)\n",
    "lst2.sort()\n",
    "print(lst2)\n",
    "lst3 = list(IS)\n",
    "lst3.sort()\n",
    "print(lst3)\n"
   ]
  }
 ],
 "metadata": {
  "kernelspec": {
   "display_name": "Python 3",
   "language": "python",
   "name": "python3"
  },
  "language_info": {
   "codemirror_mode": {
    "name": "ipython",
    "version": 3
   },
   "file_extension": ".py",
   "mimetype": "text/x-python",
   "name": "python",
   "nbconvert_exporter": "python",
   "pygments_lexer": "ipython3",
   "version": "3.6.0"
  }
 },
 "nbformat": 4,
 "nbformat_minor": 2
}
